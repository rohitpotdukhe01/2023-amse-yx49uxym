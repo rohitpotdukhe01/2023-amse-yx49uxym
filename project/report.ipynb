{
 "cells": [
  {
   "attachments": {},
   "cell_type": "markdown",
   "metadata": {},
   "source": [
    "# Long term bicycle traffic trends in Cologne for year 2020, 2021, 2022\n",
    "\n",
    "## Contents\n",
    "1. Summary\n",
    "2. Datasets\n",
    "3. Install dependencies and load data\n",
    "4. Question and their analysis\n",
    "\n",
    "The question that interests us are:\n",
    "1. **Has there been an overall increase or decrease in bicycle traffic volume in Cologne over the years?**"
   ]
  },
  {
   "cell_type": "markdown",
   "source": [
    "## 1. Summary\n",
    "\n",
    "In this project we try to analyze the bicycle traffic data of Cologne(köln) over three consecutive years i.e. 2020, 2021, 2022. Here we mainly try to observe if there has been an increase or decrease in the total traffic of bicycle in Cologne over the years. These findings can be used to improve the overall bike road infrastructure of the city to better handle the overall increasing bicycle traffic.\n",
    "\n",
    "The main question which we will try to answer is,\n",
    "1. **Has there been an overall increase or decrease in bicycle traffic volume in Cologne over the years?**"
   ],
   "metadata": {
    "collapsed": false
   }
  },
  {
   "cell_type": "markdown",
   "source": [
    "## 2. Datasets\n",
    "\n",
    "We have taken three datasets to answer our question\n",
    "1. Datasource1 : Bicycle Traffic Data Cologne 2022\n",
    "        URL : https://offenedaten-koeln.de/sites/default/files/Radverkehr%20für%20Offene%20Daten%20Köln%202022.csv\n",
    "        Description : Contains month-wise distribution number of cyclists passing on different streets for year 2022.\n",
    "\n",
    "2. Datasource2 : Bicycle Traffic Data Cologne 2021\n",
    "        URL : https://offenedaten-koeln.de/sites/default/files/Radverkehr%20für%20Offene%20Daten%20Köln%202021.csv\n",
    "        Description : Contains month-wise distribution number of cyclists passing on different streets for year 2021.\n",
    "\n",
    "3. Datasource3: Bicycle Traffic Data Cologne 2020\n",
    "        URL: https://offenedaten-koeln.de/sites/default/files/Fahrrad_Zaehlstellen_Koeln_2020.csv\n",
    "        Description : Contains month-wise distribution number of cyclists passing on different streets for year 2020."
   ],
   "metadata": {
    "collapsed": false
   }
  },
  {
   "attachments": {},
   "cell_type": "markdown",
   "metadata": {},
   "source": [
    "## 3.1 Install dependencies\n",
    "Initially, install all required dependencies. The specific version of SQLAlchemy is needed because SQLAlchemy 2.0 does not work with pandas yet. nbformat allows the use of the \"notebook\" formatter for the plot, others can not be rendered to HTML."
   ]
  },
  {
   "cell_type": "code",
   "execution_count": 59,
   "metadata": {},
   "outputs": [
    {
     "name": "stdout",
     "output_type": "stream",
     "text": [
      "Requirement already satisfied: pandas in ./venv/lib/python3.11/site-packages (2.0.1)\r\n",
      "Requirement already satisfied: python-dateutil>=2.8.2 in ./venv/lib/python3.11/site-packages (from pandas) (2.8.2)\r\n",
      "Requirement already satisfied: pytz>=2020.1 in ./venv/lib/python3.11/site-packages (from pandas) (2023.3)\r\n",
      "Requirement already satisfied: tzdata>=2022.1 in ./venv/lib/python3.11/site-packages (from pandas) (2023.3)\r\n",
      "Requirement already satisfied: numpy>=1.21.0 in ./venv/lib/python3.11/site-packages (from pandas) (1.24.3)\r\n",
      "Requirement already satisfied: six>=1.5 in ./venv/lib/python3.11/site-packages (from python-dateutil>=2.8.2->pandas) (1.16.0)\r\n",
      "Note: you may need to restart the kernel to use updated packages.\n",
      "Requirement already satisfied: plotly in ./venv/lib/python3.11/site-packages (5.15.0)\r\n",
      "Requirement already satisfied: tenacity>=6.2.0 in ./venv/lib/python3.11/site-packages (from plotly) (8.2.2)\r\n",
      "Requirement already satisfied: packaging in ./venv/lib/python3.11/site-packages (from plotly) (23.1)\r\n",
      "Note: you may need to restart the kernel to use updated packages.\n",
      "Requirement already satisfied: SQLAlchemy==1.4.46 in ./venv/lib/python3.11/site-packages (1.4.46)\r\n",
      "Note: you may need to restart the kernel to use updated packages.\n",
      "Requirement already satisfied: seaborn in ./venv/lib/python3.11/site-packages (0.12.2)\r\n",
      "Requirement already satisfied: numpy!=1.24.0,>=1.17 in ./venv/lib/python3.11/site-packages (from seaborn) (1.24.3)\r\n",
      "Requirement already satisfied: pandas>=0.25 in ./venv/lib/python3.11/site-packages (from seaborn) (2.0.1)\r\n",
      "Requirement already satisfied: matplotlib!=3.6.1,>=3.1 in ./venv/lib/python3.11/site-packages (from seaborn) (3.7.1)\r\n",
      "Requirement already satisfied: contourpy>=1.0.1 in ./venv/lib/python3.11/site-packages (from matplotlib!=3.6.1,>=3.1->seaborn) (1.0.7)\r\n",
      "Requirement already satisfied: cycler>=0.10 in ./venv/lib/python3.11/site-packages (from matplotlib!=3.6.1,>=3.1->seaborn) (0.11.0)\r\n",
      "Requirement already satisfied: fonttools>=4.22.0 in ./venv/lib/python3.11/site-packages (from matplotlib!=3.6.1,>=3.1->seaborn) (4.39.4)\r\n",
      "Requirement already satisfied: kiwisolver>=1.0.1 in ./venv/lib/python3.11/site-packages (from matplotlib!=3.6.1,>=3.1->seaborn) (1.4.4)\r\n",
      "Requirement already satisfied: packaging>=20.0 in ./venv/lib/python3.11/site-packages (from matplotlib!=3.6.1,>=3.1->seaborn) (23.1)\r\n",
      "Requirement already satisfied: pillow>=6.2.0 in ./venv/lib/python3.11/site-packages (from matplotlib!=3.6.1,>=3.1->seaborn) (9.5.0)\r\n",
      "Requirement already satisfied: pyparsing>=2.3.1 in ./venv/lib/python3.11/site-packages (from matplotlib!=3.6.1,>=3.1->seaborn) (3.0.9)\r\n",
      "Requirement already satisfied: python-dateutil>=2.7 in ./venv/lib/python3.11/site-packages (from matplotlib!=3.6.1,>=3.1->seaborn) (2.8.2)\r\n",
      "Requirement already satisfied: pytz>=2020.1 in ./venv/lib/python3.11/site-packages (from pandas>=0.25->seaborn) (2023.3)\r\n",
      "Requirement already satisfied: tzdata>=2022.1 in ./venv/lib/python3.11/site-packages (from pandas>=0.25->seaborn) (2023.3)\r\n",
      "Requirement already satisfied: six>=1.5 in ./venv/lib/python3.11/site-packages (from python-dateutil>=2.7->matplotlib!=3.6.1,>=3.1->seaborn) (1.16.0)\r\n",
      "Note: you may need to restart the kernel to use updated packages.\n",
      "Requirement already satisfied: matplotlib in ./venv/lib/python3.11/site-packages (3.7.1)\r\n",
      "Requirement already satisfied: contourpy>=1.0.1 in ./venv/lib/python3.11/site-packages (from matplotlib) (1.0.7)\r\n",
      "Requirement already satisfied: cycler>=0.10 in ./venv/lib/python3.11/site-packages (from matplotlib) (0.11.0)\r\n",
      "Requirement already satisfied: fonttools>=4.22.0 in ./venv/lib/python3.11/site-packages (from matplotlib) (4.39.4)\r\n",
      "Requirement already satisfied: kiwisolver>=1.0.1 in ./venv/lib/python3.11/site-packages (from matplotlib) (1.4.4)\r\n",
      "Requirement already satisfied: numpy>=1.20 in ./venv/lib/python3.11/site-packages (from matplotlib) (1.24.3)\r\n",
      "Requirement already satisfied: packaging>=20.0 in ./venv/lib/python3.11/site-packages (from matplotlib) (23.1)\r\n",
      "Requirement already satisfied: pillow>=6.2.0 in ./venv/lib/python3.11/site-packages (from matplotlib) (9.5.0)\r\n",
      "Requirement already satisfied: pyparsing>=2.3.1 in ./venv/lib/python3.11/site-packages (from matplotlib) (3.0.9)\r\n",
      "Requirement already satisfied: python-dateutil>=2.7 in ./venv/lib/python3.11/site-packages (from matplotlib) (2.8.2)\r\n",
      "Requirement already satisfied: six>=1.5 in ./venv/lib/python3.11/site-packages (from python-dateutil>=2.7->matplotlib) (1.16.0)\r\n",
      "Note: you may need to restart the kernel to use updated packages.\n"
     ]
    }
   ],
   "source": [
    "%pip install pandas\n",
    "%pip install plotly\n",
    "%pip install 'SQLAlchemy==1.4.46'\n",
    "%pip install seaborn\n",
    "%pip install matplotlib"
   ]
  },
  {
   "attachments": {},
   "cell_type": "markdown",
   "metadata": {},
   "source": [
    "## 3.2 Load data\n",
    "Create a pandas dataframe using the local sqlite file."
   ]
  },
  {
   "cell_type": "code",
   "execution_count": 62,
   "metadata": {},
   "outputs": [],
   "source": [
    "import pandas as pd\n",
    "\n",
    "df_bike_2022 = pd.read_sql_table('Bicycle_Traffic_Data_Cologne_2022', 'sqlite:///data/AMSE_database.sqlite')\n",
    "df_bike_2021 = pd.read_sql_table('Bicycle_Traffic_Data_Cologne_2021', 'sqlite:///data/AMSE_database.sqlite')\n",
    "df_bike_2020 = pd.read_sql_table('Bicycle_Traffic_Data_Cologne_2020', 'sqlite:///data/AMSE_database.sqlite')"
   ]
  },
  {
   "cell_type": "markdown",
   "source": [
    "Some results from our Exploratory Data Analysis are\n",
    "* In all the years the street with most bikers has been : Venloer Straße\n",
    "* And the street with the least bikers has been : Vorgebirgspark\n",
    "* And Venloer Straße had most number of bikers in the month of : June"
   ],
   "metadata": {
    "collapsed": false
   }
  },
  {
   "attachments": {},
   "cell_type": "markdown",
   "metadata": {},
   "source": [
    "## 4. Question and their analysis\n",
    "\n",
    "### 1. Has there been an overall increase or decrease in bicycle traffic volume in Cologne over the years?\n",
    "To answer our question, we will plot a Bar chart with the help of Seaborn and Matplotlib libraries. On the X-axis we are plotting the years i.e. 2020, 2021, 2022, and on the Y-axis we are plotting the traffic volume depending on the years.\n",
    "\n",
    "What we can observe is that there has been quite a jump for the year 2022 compared to that of 2020 and 2021. There could be many reasons for it, but one that I can think of is that for the year 2020 and 2021 there were many restrictions due to covid pandemic. But as in the year 2022 the restricts started to go down, the bike traffic started rising again.\n",
    "\n",
    "To conclude we can see that, overall year on year the Bicycle traffic in Cologne has increased."
   ]
  },
  {
   "cell_type": "code",
   "execution_count": 65,
   "outputs": [
    {
     "data": {
      "text/plain": "<Figure size 600x500 with 1 Axes>",
      "image/png": "[encoded data removed]"
     },
     "metadata": {},
     "output_type": "display_data"
    }
   ],
   "source": [
    "import seaborn as sns\n",
    "import matplotlib.pyplot as plt\n",
    "\n",
    "# 1. Overall increase or decrease in bicycle traffic volume\n",
    "total_traffic_volume_2020 = df_bike_2020.drop('Month', axis=1).sum().sum()\n",
    "total_traffic_volume_2021 = df_bike_2021.drop('Month', axis=1).sum().sum()\n",
    "total_traffic_volume_2022 = df_bike_2022.drop('Month', axis=1).sum().sum()\n",
    "\n",
    "traffic_volume_over_years = pd.DataFrame({\n",
    "    'Year': ['2020', '2021', '2022'],\n",
    "    'Traffic Volume': [total_traffic_volume_2020, total_traffic_volume_2021, total_traffic_volume_2022]\n",
    "})\n",
    "\n",
    "plt.figure(figsize=(6, 5))\n",
    "sns.barplot(x='Year', y='Traffic Volume', data=traffic_volume_over_years)\n",
    "plt.xlabel('Year')\n",
    "plt.ylabel('Bicycle Traffic Volume')\n",
    "plt.title('Overall Bicycle Traffic Volume in Cologne (2020-2022)')\n",
    "plt.show()"
   ],
   "metadata": {
    "collapsed": false
   }
  }
 ],
 "metadata": {
  "kernelspec": {
   "display_name": "env",
   "language": "python",
   "name": "python3"
  },
  "language_info": {
   "codemirror_mode": {
    "name": "ipython",
    "version": 3
   },
   "file_extension": ".py",
   "mimetype": "text/x-python",
   "name": "python",
   "nbconvert_exporter": "python",
   "pygments_lexer": "ipython3",
   "version": "3.11.2"
  },
  "orig_nbformat": 4
 },
 "nbformat": 4,
 "nbformat_minor": 2
}
